Is the website redesign any good?
reworded = Is the website redesign leading to higer sales?
null = No change in sales
alternate = Positive change in sales
Type 1 Error = False outcome showing no change
Type 2 Error = Negative Change in sales


Is our television ad driving more sales?
Null = No change in sales
alternate = Positive change in sales
Type 1 Error = False outcome showing no change
Type 2 Error = Negative Change in sales


Has the network latency gone up since we switched internet service providers?
Null = No change in latency
alternate = increase in latency
Type 1 Error = False outcome showing no change
Type 2 Error = Negative change in latency 
